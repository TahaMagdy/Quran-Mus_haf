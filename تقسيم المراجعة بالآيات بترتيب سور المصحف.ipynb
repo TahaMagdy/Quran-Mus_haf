{
 "cells": [
  {
   "cell_type": "code",
   "execution_count": 1,
   "id": "c4811e4c-c411-4c70-a03e-1afe36d76648",
   "metadata": {},
   "outputs": [],
   "source": [
    "import sys\n",
    "sys.path.append('/Users/taha/cs')\n",
    "sys.path.append('/Users/taha/cs/quran')\n",
    "import pyquran as q\n",
    "import math"
   ]
  },
  {
   "cell_type": "code",
   "execution_count": null,
   "id": "82805968-1f15-415e-95f3-9b7e3d4acb2d",
   "metadata": {},
   "outputs": [],
   "source": []
  }
 ],
 "metadata": {
  "kernelspec": {
   "display_name": "Python 3 (ipykernel)",
   "language": "python",
   "name": "python3"
  },
  "language_info": {
   "codemirror_mode": {
    "name": "ipython",
    "version": 3
   },
   "file_extension": ".py",
   "mimetype": "text/x-python",
   "name": "python",
   "nbconvert_exporter": "python",
   "pygments_lexer": "ipython3",
   "version": "3.9.7"
  }
 },
 "nbformat": 4,
 "nbformat_minor": 5
}
